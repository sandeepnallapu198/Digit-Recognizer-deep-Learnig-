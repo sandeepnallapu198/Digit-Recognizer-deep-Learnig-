{
 "cells": [
  {
   "cell_type": "markdown",
   "id": "feb68a7f",
   "metadata": {},
   "source": [
    "# import libraries"
   ]
  },
  {
   "cell_type": "code",
   "execution_count": 1,
   "id": "1e5f5150",
   "metadata": {},
   "outputs": [],
   "source": [
    "from keras.layers import Conv2D,MaxPooling2D,Flatten,Dropout,Dense\n",
    "from keras.models import Sequential\n",
    "from keras.datasets import mnist\n",
    "from PIL import ImageGrab,Image\n",
    "from keras import backend as k\n",
    "import tkinter as tk\n",
    "from tkinter import *\n",
    "import keras\n",
    "import win32gui\n",
    "import numpy as np"
   ]
  },
  {
   "cell_type": "markdown",
   "id": "1b2d9858",
   "metadata": {},
   "source": [
    "# load data set"
   ]
  },
  {
   "cell_type": "code",
   "execution_count": 2,
   "id": "c5f889b1",
   "metadata": {},
   "outputs": [
    {
     "name": "stdout",
     "output_type": "stream",
     "text": [
      "(60000, 28, 28) (60000,) (10000, 28, 28) (10000,)\n"
     ]
    }
   ],
   "source": [
    "(x_train,y_train),(x_test,y_test)=mnist.load_data()\n",
    "print(x_train.shape,y_train.shape,\n",
    "     x_test.shape,y_test.shape)"
   ]
  },
  {
   "cell_type": "markdown",
   "id": "d211ee25",
   "metadata": {},
   "source": [
    "# preprocessing Data"
   ]
  },
  {
   "cell_type": "code",
   "execution_count": 3,
   "id": "c4b11e2c",
   "metadata": {},
   "outputs": [
    {
     "name": "stdout",
     "output_type": "stream",
     "text": [
      "x_train shape (60000, 28, 28, 1)\n",
      "60000 train samples\n",
      "10000 test samples\n"
     ]
    }
   ],
   "source": [
    "x_train=x_train.reshape(x_train.shape[0],28,28,1)\n",
    "x_test=x_test.reshape(x_test.shape[0],28,28,1)\n",
    "\n",
    "y_train=keras.utils.to_categorical(y_train,10)\n",
    "y_test=keras.utils.to_categorical(y_test,10)\n",
    "\n",
    "x_train=x_train.astype('float32')\n",
    "x_test=x_test.astype('float32')\n",
    "\n",
    "x_train=x_train/255\n",
    "x_test=x_test/255\n",
    "print('x_train shape',x_train.shape)\n",
    "print(x_train.shape[0],'train samples')\n",
    "print(x_test.shape[0],'test samples')"
   ]
  },
  {
   "cell_type": "markdown",
   "id": "7de2390b",
   "metadata": {},
   "source": [
    "# Create the  Model"
   ]
  },
  {
   "cell_type": "code",
   "execution_count": 4,
   "id": "ac2b189f",
   "metadata": {},
   "outputs": [],
   "source": [
    "input_shape=(28,28,1)\n",
    "batch_size=128\n",
    "epochs=10\n",
    "num_classes=10\n",
    "\n",
    "model=Sequential()\n",
    "model.add(Conv2D(32,(3,3),activation='relu',input_shape=input_shape))\n",
    "model.add(Conv2D(64,(3,3),activation='relu'))\n",
    "model.add(MaxPooling2D(2,2))\n",
    "model.add(Dropout(0.25))\n",
    "model.add(Flatten())\n",
    "\n",
    "model.add(Dense(256,activation='relu'))\n",
    "model.add(Dropout(0.5))\n",
    "model.add(Dense(num_classes,activation='softmax'))\n",
    "\n",
    "#model compile\n",
    "\n",
    "model.compile(loss='categorical_crossentropy',optimizer='adam',metrics=['accuracy'])\n",
    "\n",
    "\n"
   ]
  },
  {
   "cell_type": "markdown",
   "id": "846d517c",
   "metadata": {},
   "source": [
    "# Train the model"
   ]
  },
  {
   "cell_type": "code",
   "execution_count": 5,
   "id": "4c0caffc",
   "metadata": {},
   "outputs": [
    {
     "name": "stdout",
     "output_type": "stream",
     "text": [
      "Epoch 1/10\n",
      "469/469 [==============================] - 145s 306ms/step - loss: 0.1995 - accuracy: 0.9396 - val_loss: 0.0441 - val_accuracy: 0.9853\n",
      "Epoch 2/10\n",
      "469/469 [==============================] - 143s 304ms/step - loss: 0.0631 - accuracy: 0.9808 - val_loss: 0.0323 - val_accuracy: 0.9888\n",
      "Epoch 3/10\n",
      "469/469 [==============================] - 142s 304ms/step - loss: 0.0464 - accuracy: 0.9854 - val_loss: 0.0284 - val_accuracy: 0.9913\n",
      "Epoch 4/10\n",
      "469/469 [==============================] - 143s 304ms/step - loss: 0.0370 - accuracy: 0.9883 - val_loss: 0.0256 - val_accuracy: 0.9921\n",
      "Epoch 5/10\n",
      "469/469 [==============================] - 142s 303ms/step - loss: 0.0309 - accuracy: 0.9901 - val_loss: 0.0277 - val_accuracy: 0.9910\n",
      "Epoch 6/10\n",
      "469/469 [==============================] - 141s 302ms/step - loss: 0.0280 - accuracy: 0.9908 - val_loss: 0.0255 - val_accuracy: 0.9919\n",
      "Epoch 7/10\n",
      "469/469 [==============================] - 143s 304ms/step - loss: 0.0233 - accuracy: 0.9926 - val_loss: 0.0294 - val_accuracy: 0.9914\n",
      "Epoch 8/10\n",
      "469/469 [==============================] - 142s 303ms/step - loss: 0.0202 - accuracy: 0.9934 - val_loss: 0.0260 - val_accuracy: 0.9920\n",
      "Epoch 9/10\n",
      "469/469 [==============================] - 142s 302ms/step - loss: 0.0173 - accuracy: 0.9944 - val_loss: 0.0298 - val_accuracy: 0.9912\n",
      "Epoch 10/10\n",
      "469/469 [==============================] - 142s 302ms/step - loss: 0.0158 - accuracy: 0.9950 - val_loss: 0.0248 - val_accuracy: 0.9923\n",
      "the model has successfully trained\n"
     ]
    }
   ],
   "source": [
    "his=model.fit(x_train,y_train,\n",
    "             batch_size=batch_size,\n",
    "             epochs=epochs,\n",
    "             verbose=1,\n",
    "             validation_data=(x_test,y_test))\n",
    "print('the model has successfully trained')"
   ]
  },
  {
   "cell_type": "markdown",
   "id": "d94eebd2",
   "metadata": {},
   "source": [
    "# Evaluate the model"
   ]
  },
  {
   "cell_type": "code",
   "execution_count": 9,
   "id": "040c2ff3",
   "metadata": {},
   "outputs": [
    {
     "name": "stdout",
     "output_type": "stream",
     "text": [
      "loss 0.024789858609437943\n",
      "accuracy 0.9922999739646912\n"
     ]
    }
   ],
   "source": [
    "score=model.evaluate(x_test,y_test,verbose=0)\n",
    "print('loss',score[0])\n",
    "print('accuracy',score[1])"
   ]
  },
  {
   "cell_type": "markdown",
   "id": "624f11fa",
   "metadata": {},
   "source": [
    "# Create GUI to predict digit"
   ]
  },
  {
   "cell_type": "code",
   "execution_count": 26,
   "id": "5feba081",
   "metadata": {},
   "outputs": [
    {
     "name": "stdout",
     "output_type": "stream",
     "text": [
      "1/1 [==============================] - 0s 79ms/step\n",
      "1/1 [==============================] - 0s 24ms/step\n",
      "1/1 [==============================] - 0s 32ms/step\n",
      "1/1 [==============================] - 0s 25ms/step\n"
     ]
    }
   ],
   "source": [
    "def predict_digit(img):\n",
    "    #resize img to 28*28 pixel\n",
    "    img=img.resize((28,28))\n",
    "    #convert rgb to grayscale\n",
    "    img=img.convert('L')\n",
    "    img=np.array(img)\n",
    "    \n",
    "    #reshape to support our model input and Normalization\n",
    "    img=img.reshape(1,28,28,1)\n",
    "    img=img/255.0\n",
    "    \n",
    "    \n",
    "    #predicting the class\n",
    "    res=model.predict([img])[0]\n",
    "    return np.argmax(res),max(res)\n",
    "\n",
    "class APP(tk.Tk):\n",
    "    def __init__(self):\n",
    "        tk.Tk.__init__(self)\n",
    "        self.x=self.y=0\n",
    "        \n",
    "        #creating elements\n",
    "        self.canvas=tk.Canvas(self,width=300,height=300,bg='white',cursor='cross')\n",
    "        self.label=tk.Label(self,text='predicting...',font=('HALVETIC',48))\n",
    "        self.classify_btn=tk.Button(self,text='recognise',command= self.classify_handwriting)\n",
    "        self.clear_btn=tk.Button(self,text='clear',command=self.clear_all)\n",
    "        \n",
    "        #Grid structure\n",
    "        self.canvas.grid(row=0,column=0,pady=2,sticky=W)\n",
    "        self.label.grid(row=0,column=1,pady=2,padx=2)\n",
    "        self.classify_btn.grid(row=1,column=1,pady=2,padx=2)\n",
    "        self.clear_btn.grid(row=1,column=0,pady=2)\n",
    "        self.canvas.bind('<B1-Motion>',self.draw_lines)\n",
    "        \n",
    "    def clear_all(self):\n",
    "        self.canvas.delete('all')\n",
    "    \n",
    "    def classify_handwriting(self):\n",
    "        HWND=self.canvas.winfo_id()\n",
    "        rect=win32gui.GetWindowRect(HWND)\n",
    "        im=ImageGrab.grab(rect)\n",
    "        \n",
    "        digit,acc=predict_digit(im)\n",
    "        self.label.configure(text=str(digit)+','+str(int(acc*100))+'%')\n",
    "    \n",
    "    def draw_lines(self,event):\n",
    "        self.x=event.x\n",
    "        self.y=event.y\n",
    "        r=8\n",
    "        self.canvas.create_oval(self.x-r,self.y-r,self.x+r,self.y+r,fill='black')\n",
    "        \n",
    "app=APP()\n",
    "mainloop()\n",
    "        "
   ]
  },
  {
   "cell_type": "code",
   "execution_count": null,
   "id": "3f81168b",
   "metadata": {},
   "outputs": [],
   "source": []
  },
  {
   "cell_type": "code",
   "execution_count": null,
   "id": "d771a51c",
   "metadata": {},
   "outputs": [],
   "source": []
  }
 ],
 "metadata": {
  "kernelspec": {
   "display_name": "Python 3 (ipykernel)",
   "language": "python",
   "name": "python3"
  },
  "language_info": {
   "codemirror_mode": {
    "name": "ipython",
    "version": 3
   },
   "file_extension": ".py",
   "mimetype": "text/x-python",
   "name": "python",
   "nbconvert_exporter": "python",
   "pygments_lexer": "ipython3",
   "version": "3.9.13"
  },
  "widgets": {
   "application/vnd.jupyter.widget-state+json": {
    "state": {},
    "version_major": 2,
    "version_minor": 0
   }
  }
 },
 "nbformat": 4,
 "nbformat_minor": 5
}
